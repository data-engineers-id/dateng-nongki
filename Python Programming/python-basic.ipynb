{
 "cells": [
  {
   "cell_type": "markdown",
   "source": [
    "### Docs : https://docs.google.com/presentation/d/1LAtAlk2TzYmGGZjE7nSI0899SNKihO4Ry-o0ir19oGs/preview"
   ],
   "metadata": {}
  },
  {
   "cell_type": "markdown",
   "source": [
    "## Variables"
   ],
   "metadata": {}
  },
  {
   "cell_type": "code",
   "execution_count": 1,
   "source": [
    "nama = \"Ardhi\"\n",
    "jenis_kelamin = \"Pria\"\n",
    "umur = 35"
   ],
   "outputs": [],
   "metadata": {}
  },
  {
   "cell_type": "markdown",
   "source": [
    "## Data Types - String"
   ],
   "metadata": {}
  },
  {
   "cell_type": "code",
   "execution_count": 2,
   "source": [
    "nama_barang = 'Laptop'\n",
    "tipe_barang = \"A51K\"\n",
    "alamat_pengiriman = \"Jl. Maju Mundur Ditempat No. 31, Jakarta\""
   ],
   "outputs": [],
   "metadata": {}
  },
  {
   "cell_type": "markdown",
   "source": [
    "## Data Types - Integer"
   ],
   "metadata": {}
  },
  {
   "cell_type": "code",
   "execution_count": 3,
   "source": [
    "stock_barang = 20\n",
    "barang_terjual = 950\n",
    "jumlah_anak = 3"
   ],
   "outputs": [],
   "metadata": {}
  },
  {
   "cell_type": "markdown",
   "source": [
    "## Data Types - Float"
   ],
   "metadata": {}
  },
  {
   "cell_type": "code",
   "execution_count": 4,
   "source": [
    "berat_badan = 35.7\n",
    "tinggi_badan = 170.5\n",
    "diskon = 0.5"
   ],
   "outputs": [],
   "metadata": {}
  },
  {
   "cell_type": "markdown",
   "source": [
    "## Data Types - Boolean"
   ],
   "metadata": {}
  },
  {
   "cell_type": "code",
   "execution_count": 5,
   "source": [
    "user_active = True\n",
    "married_status = False\n",
    "ready_to_ship = True"
   ],
   "outputs": [],
   "metadata": {}
  },
  {
   "cell_type": "markdown",
   "source": [
    "## Data Types - List"
   ],
   "metadata": {}
  },
  {
   "cell_type": "code",
   "execution_count": 6,
   "source": [
    "warna = [\"merah\", \"biru\", \"kuning\"]\n",
    "weight_history = [25.9, 28.1, 30.0, 32.4]\n",
    "random = [1, \"aku\", 34.8, '$', False]\n",
    "\n",
    "# get spesific item\n",
    "print(warna[1])"
   ],
   "outputs": [
    {
     "output_type": "stream",
     "name": "stdout",
     "text": [
      "biru\n"
     ]
    }
   ],
   "metadata": {}
  },
  {
   "cell_type": "markdown",
   "source": [
    "## Data Types - Dictionary"
   ],
   "metadata": {}
  },
  {
   "cell_type": "code",
   "execution_count": 7,
   "source": [
    "identitas = {\"nama\": \"Ardhi\", \"umur\": 31, \"jenis_kelamin\": \"Pria\"}\n",
    "product_detail = {\"nama\": \"Asis ROG\", \"type\": \"A51K\", \"diskon\": 0.2, \"harga\": 250000.0}\n",
    "mawar = {\"tersedia\": True, \"warna\": [\"merah\", \"putih\"] }\n",
    "\n",
    "# get spesific item\n",
    "identitas[\"umur\"]"
   ],
   "outputs": [
    {
     "output_type": "execute_result",
     "data": {
      "text/plain": [
       "31"
      ]
     },
     "metadata": {},
     "execution_count": 7
    }
   ],
   "metadata": {}
  },
  {
   "cell_type": "markdown",
   "source": [
    "## Data Types - Tuple"
   ],
   "metadata": {}
  },
  {
   "cell_type": "code",
   "execution_count": 8,
   "source": [
    "jenis_lagu = (\"pop\", \"rock\", \"dangdut\")\n",
    "penyanyi = (\"Awin Fals\", 33, \"Album Kenangan\")\n",
    "random = (22.3, \"gunting\", True, 0)\n",
    "\n",
    "# print(random)\n",
    "random[2] = \"ucup\"\n",
    "print(random)\n",
    "\n",
    "# get spesific item\n",
    "# jenis_lagu[2]"
   ],
   "outputs": [
    {
     "output_type": "error",
     "ename": "TypeError",
     "evalue": "'tuple' object does not support item assignment",
     "traceback": [
      "\u001b[0;31m---------------------------------------------------------------------------\u001b[0m",
      "\u001b[0;31mTypeError\u001b[0m                                 Traceback (most recent call last)",
      "Input \u001b[0;32mIn [8]\u001b[0m, in \u001b[0;36m<cell line: 6>\u001b[0;34m()\u001b[0m\n\u001b[1;32m      3\u001b[0m random \u001b[38;5;241m=\u001b[39m (\u001b[38;5;241m22.3\u001b[39m, \u001b[38;5;124m\"\u001b[39m\u001b[38;5;124mgunting\u001b[39m\u001b[38;5;124m\"\u001b[39m, \u001b[38;5;28;01mTrue\u001b[39;00m, \u001b[38;5;241m0\u001b[39m)\n\u001b[1;32m      5\u001b[0m \u001b[38;5;66;03m# print(random)\u001b[39;00m\n\u001b[0;32m----> 6\u001b[0m random[\u001b[38;5;241m2\u001b[39m] \u001b[38;5;241m=\u001b[39m \u001b[38;5;124m\"\u001b[39m\u001b[38;5;124mucup\u001b[39m\u001b[38;5;124m\"\u001b[39m\n\u001b[1;32m      7\u001b[0m \u001b[38;5;28mprint\u001b[39m(random)\n",
      "\u001b[0;31mTypeError\u001b[0m: 'tuple' object does not support item assignment"
     ]
    }
   ],
   "metadata": {}
  },
  {
   "cell_type": "markdown",
   "source": [
    "## Data Types - None"
   ],
   "metadata": {}
  },
  {
   "cell_type": "code",
   "execution_count": null,
   "source": [
    "resep_obat = None\n",
    "mata_kuliah = None\n",
    "status_karyawan = None"
   ],
   "outputs": [
    {
     "output_type": "error",
     "ename": "SyntaxError",
     "evalue": "invalid syntax (318281694.py, line 1)",
     "traceback": [
      "\u001b[0;36m  Input \u001b[0;32mIn [45]\u001b[0;36m\u001b[0m\n\u001b[0;31m    resep_obat =\u001b[0m\n\u001b[0m                 ^\u001b[0m\n\u001b[0;31mSyntaxError\u001b[0m\u001b[0;31m:\u001b[0m invalid syntax\n"
     ]
    }
   ],
   "metadata": {}
  },
  {
   "cell_type": "markdown",
   "source": [
    "## Conditionals - If statement"
   ],
   "metadata": {}
  },
  {
   "cell_type": "code",
   "execution_count": null,
   "source": [
    "nilai = 1\n",
    "if nilai == 1:\n",
    "    # kode dibawah ini akan dieksekusi jika nilainya adalah 1\n",
    "    print(\"ini adalah angka satu\")    \n",
    "else:\n",
    "    # kode dibawah ini akan dieksekusi jika nilainya bukan 1 \n",
    "    print(\"ini bukanlah angka 1\")"
   ],
   "outputs": [
    {
     "output_type": "error",
     "ename": "IndentationError",
     "evalue": "expected an indented block (3315241015.py, line 4)",
     "traceback": [
      "\u001b[0;36m  Input \u001b[0;32mIn [30]\u001b[0;36m\u001b[0m\n\u001b[0;31m    print(\"ini adalah angka satu\")\u001b[0m\n\u001b[0m    ^\u001b[0m\n\u001b[0;31mIndentationError\u001b[0m\u001b[0;31m:\u001b[0m expected an indented block\n"
     ]
    }
   ],
   "metadata": {}
  },
  {
   "cell_type": "markdown",
   "source": [
    "## Indentation"
   ],
   "metadata": {}
  },
  {
   "cell_type": "code",
   "execution_count": null,
   "source": [
    "nama = \"Ardhi\"\n",
    "if nama == \"Ardhi\":\n",
    "    print(\"Halo\")\n",
    "    print(\"Nama saya \" + nama)"
   ],
   "outputs": [],
   "metadata": {}
  },
  {
   "cell_type": "markdown",
   "source": [
    "## Comment"
   ],
   "metadata": {}
  },
  {
   "cell_type": "code",
   "execution_count": null,
   "source": [
    "# kode dibawah ini adalah untuk menghitung 10 x 2\n",
    "perkalian = 10 * 2\n",
    "print(perkalian)\n",
    "\n",
    "'''\n",
    "Komentar ini dapat digunakan untuk multi baris\n",
    "sehingga memudahkan untuk memberikan komentar \n",
    "yang panjang\n",
    "'''\n",
    "\n",
    "# print(\"Halo\")\n",
    "print(\"Nama saya Ardhi\")"
   ],
   "outputs": [
    {
     "output_type": "stream",
     "name": "stdout",
     "text": [
      "20\n",
      "Nama saya Ardhi\n"
     ]
    }
   ],
   "metadata": {}
  },
  {
   "cell_type": "markdown",
   "source": [
    "## Built-in Funcions"
   ],
   "metadata": {}
  },
  {
   "cell_type": "code",
   "execution_count": null,
   "source": [
    "# len : untuk menghitung jumlah panjangnya suatu value\n",
    "warna = [\"merah\", \"biru\", \"kuning\"]\n",
    "len(warna)\n",
    "\n",
    "# min : untuk mengambil nilai terkecil\n",
    "nilai_rapor = [22.0, 32.4, 37.3]\n",
    "min(nilai_rapor)\n",
    "\n",
    "# print : untuk menampilkan value \n",
    "print(\"Halo, saya Ardhi\")\n",
    "\n",
    "\n"
   ],
   "outputs": [
    {
     "output_type": "stream",
     "name": "stdout",
     "text": [
      "Halo, saya Ardhi\n"
     ]
    }
   ],
   "metadata": {}
  },
  {
   "cell_type": "markdown",
   "source": [
    "## Type Cast"
   ],
   "metadata": {}
  },
  {
   "cell_type": "code",
   "execution_count": null,
   "source": [
    "# integer\n",
    "harga = 1000\n",
    "\n",
    "# ubah menjadi float\n",
    "harga_float = float(harga)\n",
    "print(harga_float)\n",
    "print(type(harga_float))\n",
    "\n",
    "# ubah menjadi string\n",
    "harga_str = str(harga)\n",
    "print(harga_str)\n",
    "print(type(harga_str))"
   ],
   "outputs": [
    {
     "output_type": "stream",
     "name": "stdout",
     "text": [
      "1000.0\n",
      "<class 'float'>\n",
      "1000\n",
      "<class 'str'>\n"
     ]
    }
   ],
   "metadata": {}
  },
  {
   "cell_type": "markdown",
   "source": [
    "## Exception"
   ],
   "metadata": {}
  },
  {
   "cell_type": "code",
   "execution_count": null,
   "source": [
    "nilai = \"20.4\"\n",
    "try:\n",
    "    hitung = 10 + nilai\n",
    "    print(hitung)\n",
    "except Exception as e:\n",
    "    print(e)"
   ],
   "outputs": [
    {
     "output_type": "stream",
     "name": "stdout",
     "text": [
      "unsupported operand type(s) for +: 'int' and 'str'\n"
     ]
    }
   ],
   "metadata": {}
  },
  {
   "cell_type": "markdown",
   "source": [
    "## Function"
   ],
   "metadata": {}
  },
  {
   "cell_type": "code",
   "execution_count": null,
   "source": [
    "def tampilkan_teks(input_text):\n",
    "    '''\n",
    "    input : input text (str)\n",
    "    output: print()\n",
    "    '''\n",
    "    print(input_text)\n",
    "\n",
    "\n",
    "input_text = \"Halo, nama saya Ardhi\"\n",
    "tampilkan_teks(input_text)\n",
    "\n",
    "say_hi = \"Halo, nama saya udin\"\n",
    "tampilkan_teks(say_hi)\n"
   ],
   "outputs": [
    {
     "output_type": "stream",
     "name": "stdout",
     "text": [
      "Halo, nama saya Ardhi\n",
      "Halo, nama saya udin\n"
     ]
    }
   ],
   "metadata": {}
  },
  {
   "cell_type": "markdown",
   "source": [
    "## Import Packages"
   ],
   "metadata": {}
  },
  {
   "cell_type": "code",
   "execution_count": null,
   "source": [
    "import wget\n",
    "\n",
    "url = 'https://sample-videos.com/csv/Sample-Spreadsheet-10-rows.csv'\n",
    "download = wget.download(url)"
   ],
   "outputs": [],
   "metadata": {}
  },
  {
   "cell_type": "markdown",
   "source": [
    "## Loop"
   ],
   "metadata": {}
  },
  {
   "cell_type": "code",
   "execution_count": null,
   "source": [
    "# While loop akan dilakukan selama kondisinya memenuhi (True)\n",
    "count = 1\n",
    "while (count < 4):\n",
    "    print (\"The count is: \", count)\n",
    "    count = count + 1\n",
    "\n",
    "print (\"selesai!\")"
   ],
   "outputs": [
    {
     "output_type": "stream",
     "name": "stdout",
     "text": [
      "The count is:  1\n",
      "The count is:  2\n",
      "The count is:  3\n",
      "selesai!\n"
     ]
    }
   ],
   "metadata": {}
  },
  {
   "cell_type": "code",
   "execution_count": null,
   "source": [
    "# for loop digunakan untuk mengulang sebuah item / urutan apapun\n",
    "angka = [1,2,3,4,5]\n",
    "for x in angka:\n",
    "    print(x)"
   ],
   "outputs": [
    {
     "output_type": "stream",
     "name": "stdout",
     "text": [
      "1\n",
      "2\n",
      "3\n",
      "4\n",
      "5\n"
     ]
    }
   ],
   "metadata": {}
  },
  {
   "cell_type": "code",
   "execution_count": null,
   "source": [
    "nama_barang = \"sepatu\"\n",
    "\n",
    "NAMA_barang = \"mobil\"\n",
    "\n",
    "print(nama_barang)"
   ],
   "outputs": [
    {
     "output_type": "stream",
     "name": "stdout",
     "text": [
      "sepatu\n"
     ]
    }
   ],
   "metadata": {}
  },
  {
   "cell_type": "code",
   "execution_count": null,
   "source": [
    "nilai = 10\n",
    "nilai_tambahan = 10\n",
    "\n",
    "hasil = nilai + nilai_tambahan\n",
    "print(hasil)"
   ],
   "outputs": [
    {
     "output_type": "stream",
     "name": "stdout",
     "text": [
      "20\n"
     ]
    }
   ],
   "metadata": {}
  }
 ],
 "metadata": {
  "orig_nbformat": 4,
  "language_info": {
   "name": "python",
   "version": "3.8.10",
   "mimetype": "text/x-python",
   "codemirror_mode": {
    "name": "ipython",
    "version": 3
   },
   "pygments_lexer": "ipython3",
   "nbconvert_exporter": "python",
   "file_extension": ".py"
  },
  "kernelspec": {
   "name": "python3",
   "display_name": "Python 3.8.10 64-bit"
  },
  "interpreter": {
   "hash": "916dbcbb3f70747c44a77c7bcd40155683ae19c65e1c03b4aa3499c5328201f1"
  }
 },
 "nbformat": 4,
 "nbformat_minor": 2
}